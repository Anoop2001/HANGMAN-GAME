{
 "cells": [
  {
   "cell_type": "code",
   "execution_count": 1,
   "metadata": {},
   "outputs": [
    {
     "name": "stdout",
     "output_type": "stream",
     "text": [
      " HELLO! WELCOME TO HANGMAN \n",
      " PLEASE PRESS 1 TO PLAY AND 0 TO EXIT\n",
      "\n"
     ]
    },
    {
     "name": "stdin",
     "output_type": "stream",
     "text": [
      " 1\n"
     ]
    },
    {
     "name": "stdout",
     "output_type": "stream",
     "text": [
      "the length of the word is 6 \n",
      "++++++\n"
     ]
    },
    {
     "name": "stdin",
     "output_type": "stream",
     "text": [
      " PUT IN THE LETTER  o\n"
     ]
    },
    {
     "name": "stdout",
     "output_type": "stream",
     "text": [
      "+O+++O\n"
     ]
    },
    {
     "name": "stdin",
     "output_type": "stream",
     "text": [
      " PUT IN THE LETTER  p\n"
     ]
    },
    {
     "name": "stdout",
     "output_type": "stream",
     "text": [
      "PO+++O\n"
     ]
    },
    {
     "name": "stdin",
     "output_type": "stream",
     "text": [
      " PUT IN THE LETTER  t\n"
     ]
    },
    {
     "name": "stdout",
     "output_type": "stream",
     "text": [
      "POT+TO\n"
     ]
    },
    {
     "name": "stdin",
     "output_type": "stream",
     "text": [
      " PUT IN THE LETTER  u\n"
     ]
    },
    {
     "name": "stdout",
     "output_type": "stream",
     "text": [
      " OH YOU MISSED , TRY AGAIN! \n",
      "POT+TO\n"
     ]
    },
    {
     "name": "stdin",
     "output_type": "stream",
     "text": [
      " PUT IN THE LETTER  u\n"
     ]
    },
    {
     "name": "stdout",
     "output_type": "stream",
     "text": [
      " OH YOU MISSED , TRY AGAIN! \n",
      "POT+TO\n"
     ]
    },
    {
     "name": "stdin",
     "output_type": "stream",
     "text": [
      " PUT IN THE LETTER  u\n"
     ]
    },
    {
     "name": "stdout",
     "output_type": "stream",
     "text": [
      " OH YOU MISSED , TRY AGAIN! \n",
      "POT+TO\n"
     ]
    },
    {
     "name": "stdin",
     "output_type": "stream",
     "text": [
      " PUT IN THE LETTER  y\n"
     ]
    },
    {
     "name": "stdout",
     "output_type": "stream",
     "text": [
      " OH YOU MISSED , TRY AGAIN! \n",
      "POT+TO\n"
     ]
    },
    {
     "name": "stdin",
     "output_type": "stream",
     "text": [
      " PUT IN THE LETTER  y\n"
     ]
    },
    {
     "name": "stdout",
     "output_type": "stream",
     "text": [
      " OH YOU MISSED , TRY AGAIN! \n",
      "POT+TO\n"
     ]
    },
    {
     "name": "stdin",
     "output_type": "stream",
     "text": [
      " PUT IN THE LETTER  j\n"
     ]
    },
    {
     "name": "stdout",
     "output_type": "stream",
     "text": [
      " OH YOU MISSED , TRY AGAIN! \n",
      "POT+TO\n"
     ]
    },
    {
     "name": "stdin",
     "output_type": "stream",
     "text": [
      " PUT IN THE LETTER  j\n"
     ]
    },
    {
     "name": "stdout",
     "output_type": "stream",
     "text": [
      " OH YOU MISSED , TRY AGAIN! \n",
      "POT+TO\n"
     ]
    },
    {
     "name": "stdin",
     "output_type": "stream",
     "text": [
      " PUT IN THE LETTER  k\n"
     ]
    },
    {
     "name": "stdout",
     "output_type": "stream",
     "text": [
      " OH YOU MISSED , TRY AGAIN! \n",
      "POT+TO\n",
      " YOU LOST THE GAME \n",
      "\n",
      "the answer is : POTATO\n",
      " THANK YOU\n"
     ]
    }
   ],
   "source": [
    "#HANGMAN GAME\n",
    "\n",
    "\n",
    "#IMPORT AND list\n",
    "li=['HANGMAN','APPLE','RANDOM','POTATO','ELEPHANT','ILLUSTRATOR','PHOTOSHOP','CHANDELER','DWIGHT','ROSSGELLER']\n",
    "import random\n",
    "\n",
    "\n",
    "#VARIABLE DECLERATION\n",
    "num=random.randint(0,9)\n",
    "word=li[num]\n",
    "l=len(word)\n",
    "#global lo\n",
    "lo='+'*l\n",
    "lose=0\n",
    "#global chances\n",
    "chances=8\n",
    "\n",
    "\n",
    "\n",
    "#FUNCTION DECLERATION\n",
    "\n",
    "def replacer(s, newstring, index, nofail=False):\n",
    "    # raise an error if index is outside of the string\n",
    "        if not nofail and index not in range(len(s)):\n",
    "            raise ValueError(\"index outside given string\")\n",
    "\n",
    "    # if not erroring, but the index is still not in the correct range..\n",
    "        if index < 0:  # add it to the beginning\n",
    "            return newstring + s\n",
    "        if index > len(s):  # add it to the end\n",
    "            return s + newstring\n",
    "\n",
    "    # insert the new string between \"slices\" of the original\n",
    "        return s[:index] + newstring + s[index + 1:]\n",
    "\n",
    "def func(word):    \n",
    "        guess=input(\" PUT IN THE LETTER \").upper()\n",
    "        l=len(word)\n",
    "        global chances \n",
    "        global lo\n",
    "        if guess not in word:\n",
    "            #print(chances)\n",
    "            chances=chances-1\n",
    "            print(\" OH YOU MISSED , TRY AGAIN! \")\n",
    "            #print(chances)\n",
    "            print(lo)\n",
    "        \n",
    "        elif guess in word:     \n",
    "            for i in range(l):\n",
    "                if word[i]==guess:\n",
    "                    #print(guess.upper())\n",
    "                    ind=i\n",
    "                    #print(ind)\n",
    "                    lo=replacer(lo,guess,ind)\n",
    "            print(lo)\n",
    "            \n",
    "            \n",
    "# MAIN LOGIC OF GAME\n",
    "\n",
    "\n",
    "print(' HELLO! WELCOME TO HANGMAN ')\n",
    "print(\" PLEASE PRESS 1 TO PLAY AND 0 TO EXIT\")\n",
    "print('')\n",
    "play=int(input())\n",
    "if play==1:\n",
    "    print(\"the length of the word is {} \".format(l))\n",
    "    print(lo)\n",
    "    \n",
    "while(play==1):\n",
    "    if chances>0:\n",
    "        func(word)\n",
    "    else:\n",
    "        lose=1\n",
    "        \n",
    "#checking winning or loosing\n",
    "\n",
    "    if lose==1:\n",
    "        print(\" YOU LOST THE GAME \")\n",
    "        print('')\n",
    "       # print(f'THE ANSWER WAS : {word.upper()}')\n",
    "        print('the answer is : {}'.format(word))\n",
    "        play=0\n",
    "    \n",
    "    else:\n",
    "        if lo==word:\n",
    "            print(' YOU WON THE FUCKING GAME ')\n",
    "            #print(word.upper())\n",
    "            play=0\n",
    "               \n",
    "print(' THANK YOU')          "
   ]
  },
  {
   "cell_type": "code",
   "execution_count": null,
   "metadata": {},
   "outputs": [],
   "source": []
  }
 ],
 "metadata": {
  "kernelspec": {
   "display_name": "Python 3",
   "language": "python",
   "name": "python3"
  },
  "language_info": {
   "codemirror_mode": {
    "name": "ipython",
    "version": 3
   },
   "file_extension": ".py",
   "mimetype": "text/x-python",
   "name": "python",
   "nbconvert_exporter": "python",
   "pygments_lexer": "ipython3",
   "version": "3.8.5"
  }
 },
 "nbformat": 4,
 "nbformat_minor": 4
}
